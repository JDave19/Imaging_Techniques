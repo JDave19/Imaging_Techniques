{
 "cells": [
  {
   "cell_type": "code",
   "execution_count": null,
   "id": "744504f9",
   "metadata": {},
   "outputs": [],
   "source": [
    "import cv2\n",
    "import numpy as np"
   ]
  },
  {
   "cell_type": "code",
   "execution_count": 29,
   "id": "4e28913d",
   "metadata": {},
   "outputs": [],
   "source": [
    "# Constants\n",
    "z = 0.9\n",
    "m = 0.6\n",
    "n = 5  # Number of Gaussian smoothing iterations\n",
    "h = (1 / 16) * np.array([[1, 2, 1],\n",
    "                         [2, 4, 2],\n",
    "                         [1, 2, 1]], dtype=np.float32)  # Gaussian kernel\n",
    "\n",
    "cam = cv2.VideoCapture(0)\n",
    "if not cam.isOpened():\n",
    "    print(\"Camera not detected\")\n",
    "    exit()\n"
   ]
  },
  {
   "cell_type": "code",
   "execution_count": null,
   "id": "a3d729e8",
   "metadata": {},
   "outputs": [],
   "source": [
    "while True:\n",
    "    ret, frame = cam.read()\n",
    "    if not ret:\n",
    "        print(\"Failed to read frame\")\n",
    "        break\n",
    "\n",
    "    # Step 1: Convert to float32\n",
    "    I = frame.astype(np.float32)\n",
    "    \n",
    "    # Step 2: Estimate airlight by dark channel (min across channels)\n",
    "    I_air = np.min(I, axis=2)  # Shape: H x W\n",
    "\n",
    "    # Step 3: Refinement via Gaussian blur iteratively\n",
    "    I_refined = I_air.copy()\n",
    "    for _ in range(n):\n",
    "        I_refined = cv2.filter2D(I_refined, -1, h)\n",
    "\n",
    "    # Step 4: Enhancement using final simplified equation\n",
    "    correction = 1.0 + ((1.0 / 170.0 * I_refined) ** 4) # this is the simplified equation when z = 0.9, m = 0.6\n",
    "\n",
    "    # Step 5: Apply correction to the original image\n",
    "    I_enhanced = I * correction[:, :, np.newaxis]  # Broadcast to all channels\n",
    "\n",
    "    # Clip and convert to 8-bit\n",
    "    I_enhanced = np.clip(I_enhanced, 0, 255).astype(np.uint8)\n",
    "\n",
    "    # Display\n",
    "    cv2.imshow(\"Input\", frame)\n",
    "    cv2.imshow(\"Enhanced\", I_enhanced)\n",
    "\n",
    "    if cv2.waitKey(1) & 0xFF == ord('q'):\n",
    "        break\n",
    "\n",
    "cam.release()\n",
    "cv2.destroyAllWindows()\n"
   ]
  },
  {
   "cell_type": "code",
   "execution_count": null,
   "id": "9a5bff5e",
   "metadata": {},
   "outputs": [],
   "source": []
  }
 ],
 "metadata": {
  "kernelspec": {
   "display_name": "Python 3",
   "language": "python",
   "name": "python3"
  },
  "language_info": {
   "codemirror_mode": {
    "name": "ipython",
    "version": 3
   },
   "file_extension": ".py",
   "mimetype": "text/x-python",
   "name": "python",
   "nbconvert_exporter": "python",
   "pygments_lexer": "ipython3",
   "version": "3.12.8"
  }
 },
 "nbformat": 4,
 "nbformat_minor": 5
}
